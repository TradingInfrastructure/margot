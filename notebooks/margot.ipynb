{
 "cells": [
  {
   "cell_type": "code",
   "execution_count": 1,
   "metadata": {},
   "outputs": [],
   "source": [
    "import os\n",
    "from margot.data import Symbol, Ensemble, Ratio\n",
    "from margot.data.column import av\n",
    "from margot.data import feature\n",
    "\n",
    "class Equity(Symbol):\n",
    "    adjusted_close = av.Column(function='historical_daily_adjusted', column='adjusted_close')\n",
    "    volume = av.Column(function='historical_daily_adjusted', column='volume')\n",
    "\n",
    "    simple_returns = feature.SimpleReturns(column='adjusted_close')\n",
    "    log_returns = feature.LogReturns(column='adjusted_close')\n",
    "    realised_vol = feature.RealisedVolatility(column='log_returns', window=30)\n",
    "    \n",
    "    upper_band = feature.UpperBollingerBand(column='adjusted_close', window=20, width=2.0)\n",
    "    sma20 = feature.SimpleMovingAverage(column='adjusted_close', window=20)\n",
    "    lower_band = feature.LowerBollingerBand(column='adjusted_close', window=20, width=2.0)\n",
    "\n",
    "class Index(Symbol):\n",
    "    adjusted_close = av.Column(function='historical_daily_adjusted', column='adjusted_close')\n",
    "\n",
    "class VXBasis(Ensemble):\n",
    "    vixm = Equity(symbol='VIXM')\n",
    "    ziv = Equity(symbol='ZIV')\n",
    "    vix3m = Index(symbol='^VXV')\n",
    "    vix = Index(symbol='^VIX')\n",
    "\n",
    "    vx_basis = Ratio(numerator=vix.adjusted_close, denominator=vix3m.adjusted_close)\n",
    "\n",
    "vxbasis = VXBasis()\n"
   ]
  },
  {
   "cell_type": "code",
   "execution_count": 2,
   "metadata": {},
   "outputs": [
    {
     "output_type": "execute_result",
     "data": {
      "text/plain": "                                     ZIV                                      \\\n                          adjusted_close    volume log_returns    lower_band   \ndate                                                                           \n2010-11-30 00:00:00+00:00        12.2988     100.0    0.000000           NaN   \n2010-12-01 00:00:00+00:00        12.4550     400.0    0.013863           NaN   \n2010-12-02 00:00:00+00:00        12.4550       0.0        -inf           NaN   \n2010-12-03 00:00:00+00:00        13.0950    4400.0         inf           NaN   \n2010-12-06 00:00:00+00:00        13.0950       0.0        -inf           NaN   \n...                                  ...       ...         ...           ...   \n2020-06-01 00:00:00+00:00        30.6700  113655.0    0.006950 -18704.361037   \n2020-06-02 00:00:00+00:00        30.9400   52927.0   -0.007643 -19945.911037   \n2020-06-03 00:00:00+00:00        31.6800   75288.0    0.003524 -21352.561037   \n2020-06-04 00:00:00+00:00        31.8700   77255.0    0.000258 -19179.811037   \n2020-06-05 00:00:00+00:00        33.1200  117845.0    0.004223 -15886.811037   \n\n                                                                  \\\n                           realised_vol simple_returns     sma20   \ndate                                                               \n2010-11-30 00:00:00+00:00           NaN       0.000000       NaN   \n2010-12-01 00:00:00+00:00           NaN       0.030000       NaN   \n2010-12-02 00:00:00+00:00           NaN      -0.010000       NaN   \n2010-12-03 00:00:00+00:00           NaN            inf       NaN   \n2010-12-06 00:00:00+00:00           NaN      -0.010000       NaN   \n...                                 ...            ...       ...   \n2020-06-01 00:00:00+00:00  8.233967e+07       0.010038  85264.70   \n2020-06-02 00:00:00+00:00  8.315673e+07      -0.005343  84023.15   \n2020-06-03 00:00:00+00:00  8.121238e+07       0.004225  82616.50   \n2020-06-04 00:00:00+00:00  8.040116e+07       0.000261  84789.25   \n2020-06-05 00:00:00+00:00  7.983917e+07       0.005254  88082.25   \n\n                                          \n                              upper_band  \ndate                                      \n2010-11-30 00:00:00+00:00            NaN  \n2010-12-01 00:00:00+00:00            NaN  \n2010-12-02 00:00:00+00:00            NaN  \n2010-12-03 00:00:00+00:00            NaN  \n2010-12-06 00:00:00+00:00            NaN  \n...                                  ...  \n2020-06-01 00:00:00+00:00  189233.761037  \n2020-06-02 00:00:00+00:00  187992.211037  \n2020-06-03 00:00:00+00:00  186585.561037  \n2020-06-04 00:00:00+00:00  188758.311037  \n2020-06-05 00:00:00+00:00  192051.311037  \n\n[2395 rows x 8 columns]",
      "text/html": "<div>\n<style scoped>\n    .dataframe tbody tr th:only-of-type {\n        vertical-align: middle;\n    }\n\n    .dataframe tbody tr th {\n        vertical-align: top;\n    }\n\n    .dataframe thead tr th {\n        text-align: left;\n    }\n\n    .dataframe thead tr:last-of-type th {\n        text-align: right;\n    }\n</style>\n<table border=\"1\" class=\"dataframe\">\n  <thead>\n    <tr>\n      <th></th>\n      <th colspan=\"8\" halign=\"left\">ZIV</th>\n    </tr>\n    <tr>\n      <th></th>\n      <th>adjusted_close</th>\n      <th>volume</th>\n      <th>log_returns</th>\n      <th>lower_band</th>\n      <th>realised_vol</th>\n      <th>simple_returns</th>\n      <th>sma20</th>\n      <th>upper_band</th>\n    </tr>\n    <tr>\n      <th>date</th>\n      <th></th>\n      <th></th>\n      <th></th>\n      <th></th>\n      <th></th>\n      <th></th>\n      <th></th>\n      <th></th>\n    </tr>\n  </thead>\n  <tbody>\n    <tr>\n      <th>2010-11-30 00:00:00+00:00</th>\n      <td>12.2988</td>\n      <td>100.0</td>\n      <td>0.000000</td>\n      <td>NaN</td>\n      <td>NaN</td>\n      <td>0.000000</td>\n      <td>NaN</td>\n      <td>NaN</td>\n    </tr>\n    <tr>\n      <th>2010-12-01 00:00:00+00:00</th>\n      <td>12.4550</td>\n      <td>400.0</td>\n      <td>0.013863</td>\n      <td>NaN</td>\n      <td>NaN</td>\n      <td>0.030000</td>\n      <td>NaN</td>\n      <td>NaN</td>\n    </tr>\n    <tr>\n      <th>2010-12-02 00:00:00+00:00</th>\n      <td>12.4550</td>\n      <td>0.0</td>\n      <td>-inf</td>\n      <td>NaN</td>\n      <td>NaN</td>\n      <td>-0.010000</td>\n      <td>NaN</td>\n      <td>NaN</td>\n    </tr>\n    <tr>\n      <th>2010-12-03 00:00:00+00:00</th>\n      <td>13.0950</td>\n      <td>4400.0</td>\n      <td>inf</td>\n      <td>NaN</td>\n      <td>NaN</td>\n      <td>inf</td>\n      <td>NaN</td>\n      <td>NaN</td>\n    </tr>\n    <tr>\n      <th>2010-12-06 00:00:00+00:00</th>\n      <td>13.0950</td>\n      <td>0.0</td>\n      <td>-inf</td>\n      <td>NaN</td>\n      <td>NaN</td>\n      <td>-0.010000</td>\n      <td>NaN</td>\n      <td>NaN</td>\n    </tr>\n    <tr>\n      <th>...</th>\n      <td>...</td>\n      <td>...</td>\n      <td>...</td>\n      <td>...</td>\n      <td>...</td>\n      <td>...</td>\n      <td>...</td>\n      <td>...</td>\n    </tr>\n    <tr>\n      <th>2020-06-01 00:00:00+00:00</th>\n      <td>30.6700</td>\n      <td>113655.0</td>\n      <td>0.006950</td>\n      <td>-18704.361037</td>\n      <td>8.233967e+07</td>\n      <td>0.010038</td>\n      <td>85264.70</td>\n      <td>189233.761037</td>\n    </tr>\n    <tr>\n      <th>2020-06-02 00:00:00+00:00</th>\n      <td>30.9400</td>\n      <td>52927.0</td>\n      <td>-0.007643</td>\n      <td>-19945.911037</td>\n      <td>8.315673e+07</td>\n      <td>-0.005343</td>\n      <td>84023.15</td>\n      <td>187992.211037</td>\n    </tr>\n    <tr>\n      <th>2020-06-03 00:00:00+00:00</th>\n      <td>31.6800</td>\n      <td>75288.0</td>\n      <td>0.003524</td>\n      <td>-21352.561037</td>\n      <td>8.121238e+07</td>\n      <td>0.004225</td>\n      <td>82616.50</td>\n      <td>186585.561037</td>\n    </tr>\n    <tr>\n      <th>2020-06-04 00:00:00+00:00</th>\n      <td>31.8700</td>\n      <td>77255.0</td>\n      <td>0.000258</td>\n      <td>-19179.811037</td>\n      <td>8.040116e+07</td>\n      <td>0.000261</td>\n      <td>84789.25</td>\n      <td>188758.311037</td>\n    </tr>\n    <tr>\n      <th>2020-06-05 00:00:00+00:00</th>\n      <td>33.1200</td>\n      <td>117845.0</td>\n      <td>0.004223</td>\n      <td>-15886.811037</td>\n      <td>7.983917e+07</td>\n      <td>0.005254</td>\n      <td>88082.25</td>\n      <td>192051.311037</td>\n    </tr>\n  </tbody>\n</table>\n<p>2395 rows × 8 columns</p>\n</div>"
     },
     "metadata": {},
     "execution_count": 2
    }
   ],
   "source": [
    "vxbasis.ziv.to_pandas()"
   ]
  },
  {
   "cell_type": "code",
   "execution_count": 4,
   "metadata": {},
   "outputs": [
    {
     "output_type": "execute_result",
     "data": {
      "text/plain": "                                    VIXM                                      \\\n                          adjusted_close log_returns lower_band realised_vol   \ndate                                                                           \n2020-06-01 00:00:00+00:00            NaN         NaN        NaN          NaN   \n2020-06-02 00:00:00+00:00            NaN         NaN        NaN          NaN   \n2020-06-03 00:00:00+00:00            NaN         NaN        NaN          NaN   \n2020-06-04 00:00:00+00:00            NaN         NaN        NaN          NaN   \n2020-06-05 00:00:00+00:00            NaN         NaN        NaN          NaN   \n\n                                                                  \\\n                          simple_returns sma20 upper_band volume   \ndate                                                               \n2020-06-01 00:00:00+00:00            NaN   NaN        NaN    NaN   \n2020-06-02 00:00:00+00:00            NaN   NaN        NaN    NaN   \n2020-06-03 00:00:00+00:00            NaN   NaN        NaN    NaN   \n2020-06-04 00:00:00+00:00            NaN   NaN        NaN    NaN   \n2020-06-05 00:00:00+00:00            NaN   NaN        NaN    NaN   \n\n                                     ZIV                            \\\n                          adjusted_close log_returns    lower_band   \ndate                                                                 \n2020-06-01 00:00:00+00:00          30.67    0.006950 -18704.361037   \n2020-06-02 00:00:00+00:00          30.94   -0.007643 -19945.911037   \n2020-06-03 00:00:00+00:00          31.68    0.003524 -21352.561037   \n2020-06-04 00:00:00+00:00          31.87    0.000258 -19179.811037   \n2020-06-05 00:00:00+00:00          33.12    0.004223 -15886.811037   \n\n                                                                  \\\n                           realised_vol simple_returns     sma20   \ndate                                                               \n2020-06-01 00:00:00+00:00  8.233967e+07       0.010038  85264.70   \n2020-06-02 00:00:00+00:00  8.315673e+07      -0.005343  84023.15   \n2020-06-03 00:00:00+00:00  8.121238e+07       0.004225  82616.50   \n2020-06-04 00:00:00+00:00  8.040116e+07       0.000261  84789.25   \n2020-06-05 00:00:00+00:00  7.983917e+07       0.005254  88082.25   \n\n                                                             ^VIX  \\\n                              upper_band    volume adjusted_close   \ndate                                                                \n2020-06-01 00:00:00+00:00  189233.761037  113655.0            NaN   \n2020-06-02 00:00:00+00:00  187992.211037   52927.0            NaN   \n2020-06-03 00:00:00+00:00  186585.561037   75288.0            NaN   \n2020-06-04 00:00:00+00:00  188758.311037   77255.0            NaN   \n2020-06-05 00:00:00+00:00  192051.311037  117845.0            NaN   \n\n                                    ^VXV  \n                          adjusted_close  \ndate                                      \n2020-06-01 00:00:00+00:00            NaN  \n2020-06-02 00:00:00+00:00            NaN  \n2020-06-03 00:00:00+00:00            NaN  \n2020-06-04 00:00:00+00:00            NaN  \n2020-06-05 00:00:00+00:00            NaN  ",
      "text/html": "<div>\n<style scoped>\n    .dataframe tbody tr th:only-of-type {\n        vertical-align: middle;\n    }\n\n    .dataframe tbody tr th {\n        vertical-align: top;\n    }\n\n    .dataframe thead tr th {\n        text-align: left;\n    }\n\n    .dataframe thead tr:last-of-type th {\n        text-align: right;\n    }\n</style>\n<table border=\"1\" class=\"dataframe\">\n  <thead>\n    <tr>\n      <th></th>\n      <th colspan=\"8\" halign=\"left\">VIXM</th>\n      <th colspan=\"8\" halign=\"left\">ZIV</th>\n      <th>^VIX</th>\n      <th>^VXV</th>\n    </tr>\n    <tr>\n      <th></th>\n      <th>adjusted_close</th>\n      <th>log_returns</th>\n      <th>lower_band</th>\n      <th>realised_vol</th>\n      <th>simple_returns</th>\n      <th>sma20</th>\n      <th>upper_band</th>\n      <th>volume</th>\n      <th>adjusted_close</th>\n      <th>log_returns</th>\n      <th>lower_band</th>\n      <th>realised_vol</th>\n      <th>simple_returns</th>\n      <th>sma20</th>\n      <th>upper_band</th>\n      <th>volume</th>\n      <th>adjusted_close</th>\n      <th>adjusted_close</th>\n    </tr>\n    <tr>\n      <th>date</th>\n      <th></th>\n      <th></th>\n      <th></th>\n      <th></th>\n      <th></th>\n      <th></th>\n      <th></th>\n      <th></th>\n      <th></th>\n      <th></th>\n      <th></th>\n      <th></th>\n      <th></th>\n      <th></th>\n      <th></th>\n      <th></th>\n      <th></th>\n      <th></th>\n    </tr>\n  </thead>\n  <tbody>\n    <tr>\n      <th>2020-06-01 00:00:00+00:00</th>\n      <td>NaN</td>\n      <td>NaN</td>\n      <td>NaN</td>\n      <td>NaN</td>\n      <td>NaN</td>\n      <td>NaN</td>\n      <td>NaN</td>\n      <td>NaN</td>\n      <td>30.67</td>\n      <td>0.006950</td>\n      <td>-18704.361037</td>\n      <td>8.233967e+07</td>\n      <td>0.010038</td>\n      <td>85264.70</td>\n      <td>189233.761037</td>\n      <td>113655.0</td>\n      <td>NaN</td>\n      <td>NaN</td>\n    </tr>\n    <tr>\n      <th>2020-06-02 00:00:00+00:00</th>\n      <td>NaN</td>\n      <td>NaN</td>\n      <td>NaN</td>\n      <td>NaN</td>\n      <td>NaN</td>\n      <td>NaN</td>\n      <td>NaN</td>\n      <td>NaN</td>\n      <td>30.94</td>\n      <td>-0.007643</td>\n      <td>-19945.911037</td>\n      <td>8.315673e+07</td>\n      <td>-0.005343</td>\n      <td>84023.15</td>\n      <td>187992.211037</td>\n      <td>52927.0</td>\n      <td>NaN</td>\n      <td>NaN</td>\n    </tr>\n    <tr>\n      <th>2020-06-03 00:00:00+00:00</th>\n      <td>NaN</td>\n      <td>NaN</td>\n      <td>NaN</td>\n      <td>NaN</td>\n      <td>NaN</td>\n      <td>NaN</td>\n      <td>NaN</td>\n      <td>NaN</td>\n      <td>31.68</td>\n      <td>0.003524</td>\n      <td>-21352.561037</td>\n      <td>8.121238e+07</td>\n      <td>0.004225</td>\n      <td>82616.50</td>\n      <td>186585.561037</td>\n      <td>75288.0</td>\n      <td>NaN</td>\n      <td>NaN</td>\n    </tr>\n    <tr>\n      <th>2020-06-04 00:00:00+00:00</th>\n      <td>NaN</td>\n      <td>NaN</td>\n      <td>NaN</td>\n      <td>NaN</td>\n      <td>NaN</td>\n      <td>NaN</td>\n      <td>NaN</td>\n      <td>NaN</td>\n      <td>31.87</td>\n      <td>0.000258</td>\n      <td>-19179.811037</td>\n      <td>8.040116e+07</td>\n      <td>0.000261</td>\n      <td>84789.25</td>\n      <td>188758.311037</td>\n      <td>77255.0</td>\n      <td>NaN</td>\n      <td>NaN</td>\n    </tr>\n    <tr>\n      <th>2020-06-05 00:00:00+00:00</th>\n      <td>NaN</td>\n      <td>NaN</td>\n      <td>NaN</td>\n      <td>NaN</td>\n      <td>NaN</td>\n      <td>NaN</td>\n      <td>NaN</td>\n      <td>NaN</td>\n      <td>33.12</td>\n      <td>0.004223</td>\n      <td>-15886.811037</td>\n      <td>7.983917e+07</td>\n      <td>0.005254</td>\n      <td>88082.25</td>\n      <td>192051.311037</td>\n      <td>117845.0</td>\n      <td>NaN</td>\n      <td>NaN</td>\n    </tr>\n  </tbody>\n</table>\n</div>"
     },
     "metadata": {},
     "execution_count": 4
    }
   ],
   "source": [
    "vxbasis.to_pandas().tail()"
   ]
  },
  {
   "cell_type": "code",
   "execution_count": null,
   "metadata": {},
   "outputs": [],
   "source": []
  }
 ],
 "metadata": {
  "language_info": {
   "codemirror_mode": {
    "name": "ipython",
    "version": 3
   },
   "file_extension": ".py",
   "mimetype": "text/x-python",
   "name": "python",
   "nbconvert_exporter": "python",
   "pygments_lexer": "ipython3",
   "version": "3.7.7-final"
  },
  "orig_nbformat": 2,
  "kernelspec": {
   "name": "python37764bittradingvirtualenv7e7bee5f6d9c4e4f8a202dccd3c73e6c",
   "display_name": "Python 3.7.7 64-bit ('trading': virtualenv)"
  }
 },
 "nbformat": 4,
 "nbformat_minor": 2
}