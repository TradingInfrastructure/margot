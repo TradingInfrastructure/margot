{
 "cells": [
  {
   "cell_type": "code",
   "execution_count": 1,
   "metadata": {},
   "outputs": [],
   "source": [
    "import os\n",
    "from margot.data import Symbol\n",
    "from margot.data.column import av\n",
    "from margot.data import feature\n",
    "\n",
    "class Equity(Symbol):\n",
    "    adjusted_close = av.Column(function='historical_daily_adjusted', column='adjusted_close')\n",
    "    volume = av.Column(function='historical_daily_adjusted', column='volume')\n",
    "\n",
    "    simple_returns = feature.SimpleReturns(column='adjusted_close')\n",
    "    log_returns = feature.LogReturns(column='adjusted_close')\n",
    "    realised_vol = feature.RealisedVolatility(column='log_returns', window=30)\n",
    "    \n",
    "    upper_band = feature.UpperBollingerBand(column='adjusted_close', window=20, width=2.0)\n",
    "    sma20 = feature.SimpleMovingAverage(column='adjusted_close', window=20)\n",
    "    lower_band = feature.LowerBollingerBand(column='adjusted_close', window=20, width=2.0)\n",
    "\n",
    "spy = Equity(symbol='SPY')\n"
   ]
  },
  {
   "cell_type": "code",
   "execution_count": 2,
   "metadata": {},
   "outputs": [
    {
     "output_type": "execute_result",
     "data": {
      "text/plain": "date\n2020-05-29 00:00:00+00:00    3.465349e+10\n2020-06-01 00:00:00+00:00    3.387984e+10\n2020-06-02 00:00:00+00:00    3.448678e+10\n2020-06-03 00:00:00+00:00    3.326649e+10\n2020-06-04 00:00:00+00:00    3.370662e+10\nName: realised_vol, dtype: float64"
     },
     "metadata": {},
     "execution_count": 2
    }
   ],
   "source": [
    "spy.realised_vol.get_series().tail()"
   ]
  },
  {
   "cell_type": "code",
   "execution_count": null,
   "metadata": {},
   "outputs": [],
   "source": []
  }
 ],
 "metadata": {
  "language_info": {
   "codemirror_mode": {
    "name": "ipython",
    "version": 3
   },
   "file_extension": ".py",
   "mimetype": "text/x-python",
   "name": "python",
   "nbconvert_exporter": "python",
   "pygments_lexer": "ipython3",
   "version": "3.7.7-final"
  },
  "orig_nbformat": 2,
  "kernelspec": {
   "name": "python37764bittradingvirtualenv7e7bee5f6d9c4e4f8a202dccd3c73e6c",
   "display_name": "Python 3.7.7 64-bit ('trading': virtualenv)"
  }
 },
 "nbformat": 4,
 "nbformat_minor": 2
}