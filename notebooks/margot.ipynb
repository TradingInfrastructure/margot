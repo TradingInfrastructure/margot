{
 "cells": [
  {
   "cell_type": "code",
   "execution_count": 1,
   "metadata": {},
   "outputs": [],
   "source": [
    "import os\n",
    "from margot.data import Symbol, Ensemble, Ratio\n",
    "from margot.data.column import av\n",
    "from margot.data import feature\n",
    "\n",
    "class Equity(Symbol):\n",
    "    adjusted_close = av.Column(function='historical_daily_adjusted', column='adjusted_close')\n",
    "    volume = av.Column(function='historical_daily_adjusted', column='volume')\n",
    "\n",
    "    simple_returns = feature.SimpleReturns(column='adjusted_close')\n",
    "    log_returns = feature.LogReturns(column='adjusted_close')\n",
    "    realised_vol = feature.RealisedVolatility(column='log_returns', window=30)\n",
    "    \n",
    "    upper_band = feature.UpperBollingerBand(column='adjusted_close', window=20, width=2.0)\n",
    "    sma20 = feature.SimpleMovingAverage(column='adjusted_close', window=20)\n",
    "    lower_band = feature.LowerBollingerBand(column='adjusted_close', window=20, width=2.0)\n",
    "\n",
    "class Index(Symbol):\n",
    "    adjusted_close = av.Column(function='historical_daily_adjusted', column='adjusted_close')\n",
    "\n",
    "class VXBasis(Ensemble):\n",
    "    vixm = Equity(symbol='VIXM')\n",
    "    ziv = Equity(symbol='ZIV')\n",
    "    vix3m = Index(symbol='^VXV')\n",
    "    vix = Index(symbol='^VIX')\n",
    "\n",
    "    vx_basis = Ratio(numerator=vix.adjusted_close, denominator=vix3m.adjusted_close, label='vx_basis_ratio')\n",
    "\n",
    "vxbasis = VXBasis()\n"
   ]
  },
  {
   "cell_type": "code",
   "execution_count": 3,
   "metadata": {},
   "outputs": [
    {
     "output_type": "execute_result",
     "data": {
      "text/plain": "                           (^VIX, adjusted_close)  (^VXV, adjusted_close)  \\\ndate                                                                        \n2020-06-01 00:00:00+00:00                   28.23                   28.23   \n2020-06-02 00:00:00+00:00                   26.84                   26.84   \n2020-06-03 00:00:00+00:00                   25.66                   25.66   \n2020-06-04 00:00:00+00:00                   25.81                   25.81   \n2020-06-05 00:00:00+00:00                   24.52                   24.52   \n\n                           (VIXM, adjusted_close)  (VIXM, volume)  \\\ndate                                                                \n2020-06-01 00:00:00+00:00                   30.67        113655.0   \n2020-06-02 00:00:00+00:00                   30.94         52927.0   \n2020-06-03 00:00:00+00:00                   31.68         75288.0   \n2020-06-04 00:00:00+00:00                   31.87         77255.0   \n2020-06-05 00:00:00+00:00                   33.12        117845.0   \n\n                           (VIXM, log_returns)  (VIXM, lower_band)  \\\ndate                                                                 \n2020-06-01 00:00:00+00:00             0.006950       -18704.361037   \n2020-06-02 00:00:00+00:00            -0.007643       -19945.911037   \n2020-06-03 00:00:00+00:00             0.003524       -21352.561037   \n2020-06-04 00:00:00+00:00             0.000258       -19179.811037   \n2020-06-05 00:00:00+00:00             0.004223       -15886.811037   \n\n                           (VIXM, realised_vol)  (VIXM, simple_returns)  \\\ndate                                                                      \n2020-06-01 00:00:00+00:00          8.233967e+07                0.010038   \n2020-06-02 00:00:00+00:00          8.315673e+07               -0.005343   \n2020-06-03 00:00:00+00:00          8.121238e+07                0.004225   \n2020-06-04 00:00:00+00:00          8.040116e+07                0.000261   \n2020-06-05 00:00:00+00:00          7.983917e+07                0.005254   \n\n                           (VIXM, sma20)  (VIXM, upper_band)  \\\ndate                                                           \n2020-06-01 00:00:00+00:00       85264.70       189233.761037   \n2020-06-02 00:00:00+00:00       84023.15       187992.211037   \n2020-06-03 00:00:00+00:00       82616.50       186585.561037   \n2020-06-04 00:00:00+00:00       84789.25       188758.311037   \n2020-06-05 00:00:00+00:00       88082.25       192051.311037   \n\n                           (ZIV, adjusted_close)  (ZIV, volume)  \\\ndate                                                              \n2020-06-01 00:00:00+00:00                  30.67       113655.0   \n2020-06-02 00:00:00+00:00                  30.94        52927.0   \n2020-06-03 00:00:00+00:00                  31.68        75288.0   \n2020-06-04 00:00:00+00:00                  31.87        77255.0   \n2020-06-05 00:00:00+00:00                  33.12       117845.0   \n\n                           (ZIV, log_returns)  (ZIV, lower_band)  \\\ndate                                                               \n2020-06-01 00:00:00+00:00            0.006950      -18704.361037   \n2020-06-02 00:00:00+00:00           -0.007643      -19945.911037   \n2020-06-03 00:00:00+00:00            0.003524      -21352.561037   \n2020-06-04 00:00:00+00:00            0.000258      -19179.811037   \n2020-06-05 00:00:00+00:00            0.004223      -15886.811037   \n\n                           (ZIV, realised_vol)  (ZIV, simple_returns)  \\\ndate                                                                    \n2020-06-01 00:00:00+00:00         8.233967e+07               0.010038   \n2020-06-02 00:00:00+00:00         8.315673e+07              -0.005343   \n2020-06-03 00:00:00+00:00         8.121238e+07               0.004225   \n2020-06-04 00:00:00+00:00         8.040116e+07               0.000261   \n2020-06-05 00:00:00+00:00         7.983917e+07               0.005254   \n\n                           (ZIV, sma20)  (ZIV, upper_band)  vx_basis_ratio  \ndate                                                                        \n2020-06-01 00:00:00+00:00      85264.70      189233.761037             1.0  \n2020-06-02 00:00:00+00:00      84023.15      187992.211037             1.0  \n2020-06-03 00:00:00+00:00      82616.50      186585.561037             1.0  \n2020-06-04 00:00:00+00:00      84789.25      188758.311037             1.0  \n2020-06-05 00:00:00+00:00      88082.25      192051.311037             1.0  ",
      "text/html": "<div>\n<style scoped>\n    .dataframe tbody tr th:only-of-type {\n        vertical-align: middle;\n    }\n\n    .dataframe tbody tr th {\n        vertical-align: top;\n    }\n\n    .dataframe thead th {\n        text-align: right;\n    }\n</style>\n<table border=\"1\" class=\"dataframe\">\n  <thead>\n    <tr style=\"text-align: right;\">\n      <th></th>\n      <th>(^VIX, adjusted_close)</th>\n      <th>(^VXV, adjusted_close)</th>\n      <th>(VIXM, adjusted_close)</th>\n      <th>(VIXM, volume)</th>\n      <th>(VIXM, log_returns)</th>\n      <th>(VIXM, lower_band)</th>\n      <th>(VIXM, realised_vol)</th>\n      <th>(VIXM, simple_returns)</th>\n      <th>(VIXM, sma20)</th>\n      <th>(VIXM, upper_band)</th>\n      <th>(ZIV, adjusted_close)</th>\n      <th>(ZIV, volume)</th>\n      <th>(ZIV, log_returns)</th>\n      <th>(ZIV, lower_band)</th>\n      <th>(ZIV, realised_vol)</th>\n      <th>(ZIV, simple_returns)</th>\n      <th>(ZIV, sma20)</th>\n      <th>(ZIV, upper_band)</th>\n      <th>vx_basis_ratio</th>\n    </tr>\n    <tr>\n      <th>date</th>\n      <th></th>\n      <th></th>\n      <th></th>\n      <th></th>\n      <th></th>\n      <th></th>\n      <th></th>\n      <th></th>\n      <th></th>\n      <th></th>\n      <th></th>\n      <th></th>\n      <th></th>\n      <th></th>\n      <th></th>\n      <th></th>\n      <th></th>\n      <th></th>\n      <th></th>\n    </tr>\n  </thead>\n  <tbody>\n    <tr>\n      <th>2020-06-01 00:00:00+00:00</th>\n      <td>28.23</td>\n      <td>28.23</td>\n      <td>30.67</td>\n      <td>113655.0</td>\n      <td>0.006950</td>\n      <td>-18704.361037</td>\n      <td>8.233967e+07</td>\n      <td>0.010038</td>\n      <td>85264.70</td>\n      <td>189233.761037</td>\n      <td>30.67</td>\n      <td>113655.0</td>\n      <td>0.006950</td>\n      <td>-18704.361037</td>\n      <td>8.233967e+07</td>\n      <td>0.010038</td>\n      <td>85264.70</td>\n      <td>189233.761037</td>\n      <td>1.0</td>\n    </tr>\n    <tr>\n      <th>2020-06-02 00:00:00+00:00</th>\n      <td>26.84</td>\n      <td>26.84</td>\n      <td>30.94</td>\n      <td>52927.0</td>\n      <td>-0.007643</td>\n      <td>-19945.911037</td>\n      <td>8.315673e+07</td>\n      <td>-0.005343</td>\n      <td>84023.15</td>\n      <td>187992.211037</td>\n      <td>30.94</td>\n      <td>52927.0</td>\n      <td>-0.007643</td>\n      <td>-19945.911037</td>\n      <td>8.315673e+07</td>\n      <td>-0.005343</td>\n      <td>84023.15</td>\n      <td>187992.211037</td>\n      <td>1.0</td>\n    </tr>\n    <tr>\n      <th>2020-06-03 00:00:00+00:00</th>\n      <td>25.66</td>\n      <td>25.66</td>\n      <td>31.68</td>\n      <td>75288.0</td>\n      <td>0.003524</td>\n      <td>-21352.561037</td>\n      <td>8.121238e+07</td>\n      <td>0.004225</td>\n      <td>82616.50</td>\n      <td>186585.561037</td>\n      <td>31.68</td>\n      <td>75288.0</td>\n      <td>0.003524</td>\n      <td>-21352.561037</td>\n      <td>8.121238e+07</td>\n      <td>0.004225</td>\n      <td>82616.50</td>\n      <td>186585.561037</td>\n      <td>1.0</td>\n    </tr>\n    <tr>\n      <th>2020-06-04 00:00:00+00:00</th>\n      <td>25.81</td>\n      <td>25.81</td>\n      <td>31.87</td>\n      <td>77255.0</td>\n      <td>0.000258</td>\n      <td>-19179.811037</td>\n      <td>8.040116e+07</td>\n      <td>0.000261</td>\n      <td>84789.25</td>\n      <td>188758.311037</td>\n      <td>31.87</td>\n      <td>77255.0</td>\n      <td>0.000258</td>\n      <td>-19179.811037</td>\n      <td>8.040116e+07</td>\n      <td>0.000261</td>\n      <td>84789.25</td>\n      <td>188758.311037</td>\n      <td>1.0</td>\n    </tr>\n    <tr>\n      <th>2020-06-05 00:00:00+00:00</th>\n      <td>24.52</td>\n      <td>24.52</td>\n      <td>33.12</td>\n      <td>117845.0</td>\n      <td>0.004223</td>\n      <td>-15886.811037</td>\n      <td>7.983917e+07</td>\n      <td>0.005254</td>\n      <td>88082.25</td>\n      <td>192051.311037</td>\n      <td>33.12</td>\n      <td>117845.0</td>\n      <td>0.004223</td>\n      <td>-15886.811037</td>\n      <td>7.983917e+07</td>\n      <td>0.005254</td>\n      <td>88082.25</td>\n      <td>192051.311037</td>\n      <td>1.0</td>\n    </tr>\n  </tbody>\n</table>\n</div>"
     },
     "metadata": {},
     "execution_count": 3
    }
   ],
   "source": [
    "vxbasis.().tail()"
   ]
  },
  {
   "cell_type": "code",
   "execution_count": null,
   "metadata": {},
   "outputs": [],
   "source": []
  }
 ],
 "metadata": {
  "language_info": {
   "codemirror_mode": {
    "name": "ipython",
    "version": 3
   },
   "file_extension": ".py",
   "mimetype": "text/x-python",
   "name": "python",
   "nbconvert_exporter": "python",
   "pygments_lexer": "ipython3",
   "version": "3.7.7-final"
  },
  "orig_nbformat": 2,
  "kernelspec": {
   "name": "python37764bittradingvirtualenv7e7bee5f6d9c4e4f8a202dccd3c73e6c",
   "display_name": "Python 3.7.7 64-bit ('trading': virtualenv)"
  }
 },
 "nbformat": 4,
 "nbformat_minor": 2
}