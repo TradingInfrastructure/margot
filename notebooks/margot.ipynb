{
 "cells": [
  {
   "cell_type": "code",
   "execution_count": 1,
   "metadata": {},
   "outputs": [],
   "source": [
    "import os\n",
    "from margot.data import Symbol\n",
    "from margot.data.fields import av\n",
    "from margot.data import features\n",
    "\n",
    "class Equity(Symbol):\n",
    "    adjusted_close = av.Field(function='historical_daily_adjusted', field='adjusted_close')\n",
    "    volume = av.Field(function='historical_daily_adjusted', field='volume')\n",
    "\n",
    "    simple_returns = features.SimpleReturns(field='adjusted_close')\n",
    "    log_returns = features.LogReturns(field='adjusted_close')\n",
    "    realised_vol = features.RealisedVolatility(field='log_returns', window=30)\n",
    "\n",
    "env = { 'DATA_CACHE': os.path.join( os.path.dirname(os.getcwd()), 'data' ) }\n",
    "spy = Equity(symbol='SPY', env=env)\n"
   ]
  },
  {
   "cell_type": "code",
   "execution_count": 2,
   "metadata": {},
   "outputs": [
    {
     "output_type": "execute_result",
     "data": {
      "text/plain": "date\n2020-05-26 00:00:00+00:00    0.270010\n2020-05-27 00:00:00+00:00    0.260913\n2020-05-28 00:00:00+00:00    0.251437\n2020-05-29 00:00:00+00:00    0.251415\n2020-06-01 00:00:00+00:00    0.241167\nName: adjusted_close, dtype: float64"
     },
     "metadata": {},
     "execution_count": 2
    }
   ],
   "source": [
    "spy.realised_vol.get_series().tail()"
   ]
  },
  {
   "cell_type": "code",
   "execution_count": null,
   "metadata": {},
   "outputs": [],
   "source": []
  }
 ],
 "metadata": {
  "language_info": {
   "codemirror_mode": {
    "name": "ipython",
    "version": 3
   },
   "file_extension": ".py",
   "mimetype": "text/x-python",
   "name": "python",
   "nbconvert_exporter": "python",
   "pygments_lexer": "ipython3",
   "version": "3.7.7-final"
  },
  "orig_nbformat": 2,
  "kernelspec": {
   "name": "python37764bittradingvirtualenv7e7bee5f6d9c4e4f8a202dccd3c73e6c",
   "display_name": "Python 3.7.7 64-bit ('trading': virtualenv)"
  }
 },
 "nbformat": 4,
 "nbformat_minor": 2
}