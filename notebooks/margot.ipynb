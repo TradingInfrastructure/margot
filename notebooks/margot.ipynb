{
 "cells": [
  {
   "cell_type": "code",
   "execution_count": 1,
   "metadata": {},
   "outputs": [],
   "source": [
    "import os\n",
    "from margot.data import MargotDataFrame, Symbol, Ratio\n",
    "from margot.data.column import av\n",
    "from margot.data import feature\n",
    "\n",
    "class Equity(Symbol):\n",
    "    adjusted_close = av.Column(function='historical_daily_adjusted', time_series='adjusted_close')\n",
    "    volume = av.Column(function='historical_daily_adjusted', time_series='volume')\n",
    "\n",
    "    simple_returns = feature.SimpleReturns(column=adjusted_close)\n",
    "    log_returns = feature.LogReturns(column=adjusted_close)\n",
    "    realised_vol = feature.RealisedVolatility(column='log_returns', window=30)\n",
    "    \n",
    "    upper_band = feature.UpperBollingerBand(column=adjusted_close, window=20, width=2.0)\n",
    "    sma20 = feature.SimpleMovingAverage(column=adjusted_close, window=20)\n",
    "    lower_band = feature.LowerBollingerBand(column=adjusted_close, window=20, width=2.0)\n",
    "\n",
    "class Index(Symbol):\n",
    "    adjusted_close = av.Column(function='historical_daily_adjusted', time_series='adjusted_close')\n",
    "\n",
    "class VXBasis(MargotDataFrame):\n",
    "    # vixm = Equity(symbol='VIXM')\n",
    "    # ziv = Equity(symbol='ZIV')\n",
    "    vix3m = Index(symbol='^VXV')\n",
    "    vix = Index(symbol='^VIX')\n",
    "\n",
    "    # vx_basis = Ratio(numerator=vix.adjusted_close, denominator=vix3m.adjusted_close, label='vx_basis_ratio')\n",
    "\n",
    "vxbasis = VXBasis()\n"
   ]
  },
  {
   "cell_type": "code",
   "execution_count": 2,
   "metadata": {},
   "outputs": [
    {
     "output_type": "execute_result",
     "data": {
      "text/plain": "                                    ^VIX           ^VXV\n                          adjusted_close adjusted_close\ndate                                                   \n2020-06-01 00:00:00+00:00          28.23          28.23\n2020-06-02 00:00:00+00:00          26.84          26.84\n2020-06-03 00:00:00+00:00          25.66          25.66\n2020-06-04 00:00:00+00:00          25.81          25.81\n2020-06-05 00:00:00+00:00          24.52          24.52",
      "text/html": "<div>\n<style scoped>\n    .dataframe tbody tr th:only-of-type {\n        vertical-align: middle;\n    }\n\n    .dataframe tbody tr th {\n        vertical-align: top;\n    }\n\n    .dataframe thead tr th {\n        text-align: left;\n    }\n\n    .dataframe thead tr:last-of-type th {\n        text-align: right;\n    }\n</style>\n<table border=\"1\" class=\"dataframe\">\n  <thead>\n    <tr>\n      <th></th>\n      <th>^VIX</th>\n      <th>^VXV</th>\n    </tr>\n    <tr>\n      <th></th>\n      <th>adjusted_close</th>\n      <th>adjusted_close</th>\n    </tr>\n    <tr>\n      <th>date</th>\n      <th></th>\n      <th></th>\n    </tr>\n  </thead>\n  <tbody>\n    <tr>\n      <th>2020-06-01 00:00:00+00:00</th>\n      <td>28.23</td>\n      <td>28.23</td>\n    </tr>\n    <tr>\n      <th>2020-06-02 00:00:00+00:00</th>\n      <td>26.84</td>\n      <td>26.84</td>\n    </tr>\n    <tr>\n      <th>2020-06-03 00:00:00+00:00</th>\n      <td>25.66</td>\n      <td>25.66</td>\n    </tr>\n    <tr>\n      <th>2020-06-04 00:00:00+00:00</th>\n      <td>25.81</td>\n      <td>25.81</td>\n    </tr>\n    <tr>\n      <th>2020-06-05 00:00:00+00:00</th>\n      <td>24.52</td>\n      <td>24.52</td>\n    </tr>\n  </tbody>\n</table>\n</div>"
     },
     "metadata": {},
     "execution_count": 2
    }
   ],
   "source": [
    "vxbasis.to_pandas().tail()"
   ]
  },
  {
   "cell_type": "code",
   "execution_count": 3,
   "metadata": {},
   "outputs": [
    {
     "output_type": "execute_result",
     "data": {
      "text/plain": "                                    ^VXV\n                          adjusted_close\ndate                                    \n2020-06-01 00:00:00+00:00          30.92\n2020-06-02 00:00:00+00:00          29.93\n2020-06-03 00:00:00+00:00          28.91\n2020-06-04 00:00:00+00:00          28.85\n2020-06-05 00:00:00+00:00          27.42",
      "text/html": "<div>\n<style scoped>\n    .dataframe tbody tr th:only-of-type {\n        vertical-align: middle;\n    }\n\n    .dataframe tbody tr th {\n        vertical-align: top;\n    }\n\n    .dataframe thead tr th {\n        text-align: left;\n    }\n\n    .dataframe thead tr:last-of-type th {\n        text-align: right;\n    }\n</style>\n<table border=\"1\" class=\"dataframe\">\n  <thead>\n    <tr>\n      <th></th>\n      <th>^VXV</th>\n    </tr>\n    <tr>\n      <th></th>\n      <th>adjusted_close</th>\n    </tr>\n    <tr>\n      <th>date</th>\n      <th></th>\n    </tr>\n  </thead>\n  <tbody>\n    <tr>\n      <th>2020-06-01 00:00:00+00:00</th>\n      <td>30.92</td>\n    </tr>\n    <tr>\n      <th>2020-06-02 00:00:00+00:00</th>\n      <td>29.93</td>\n    </tr>\n    <tr>\n      <th>2020-06-03 00:00:00+00:00</th>\n      <td>28.91</td>\n    </tr>\n    <tr>\n      <th>2020-06-04 00:00:00+00:00</th>\n      <td>28.85</td>\n    </tr>\n    <tr>\n      <th>2020-06-05 00:00:00+00:00</th>\n      <td>27.42</td>\n    </tr>\n  </tbody>\n</table>\n</div>"
     },
     "metadata": {},
     "execution_count": 3
    }
   ],
   "source": [
    "Index(symbol='^VXV').to_pandas().tail()"
   ]
  },
  {
   "cell_type": "code",
   "execution_count": 4,
   "metadata": {},
   "outputs": [
    {
     "output_type": "execute_result",
     "data": {
      "text/plain": "                                    ^VXV\n                          adjusted_close\ndate                                    \n2020-06-01 00:00:00+00:00          30.92\n2020-06-02 00:00:00+00:00          29.93\n2020-06-03 00:00:00+00:00          28.91\n2020-06-04 00:00:00+00:00          28.85\n2020-06-05 00:00:00+00:00          27.42",
      "text/html": "<div>\n<style scoped>\n    .dataframe tbody tr th:only-of-type {\n        vertical-align: middle;\n    }\n\n    .dataframe tbody tr th {\n        vertical-align: top;\n    }\n\n    .dataframe thead tr th {\n        text-align: left;\n    }\n\n    .dataframe thead tr:last-of-type th {\n        text-align: right;\n    }\n</style>\n<table border=\"1\" class=\"dataframe\">\n  <thead>\n    <tr>\n      <th></th>\n      <th>^VXV</th>\n    </tr>\n    <tr>\n      <th></th>\n      <th>adjusted_close</th>\n    </tr>\n    <tr>\n      <th>date</th>\n      <th></th>\n    </tr>\n  </thead>\n  <tbody>\n    <tr>\n      <th>2020-06-01 00:00:00+00:00</th>\n      <td>30.92</td>\n    </tr>\n    <tr>\n      <th>2020-06-02 00:00:00+00:00</th>\n      <td>29.93</td>\n    </tr>\n    <tr>\n      <th>2020-06-03 00:00:00+00:00</th>\n      <td>28.91</td>\n    </tr>\n    <tr>\n      <th>2020-06-04 00:00:00+00:00</th>\n      <td>28.85</td>\n    </tr>\n    <tr>\n      <th>2020-06-05 00:00:00+00:00</th>\n      <td>27.42</td>\n    </tr>\n  </tbody>\n</table>\n</div>"
     },
     "metadata": {},
     "execution_count": 4
    }
   ],
   "source": [
    "vxbasis.vix3m.to_pandas().tail()"
   ]
  },
  {
   "cell_type": "code",
   "execution_count": null,
   "metadata": {},
   "outputs": [],
   "source": []
  }
 ],
 "metadata": {
  "language_info": {
   "codemirror_mode": {
    "name": "ipython",
    "version": 3
   },
   "file_extension": ".py",
   "mimetype": "text/x-python",
   "name": "python",
   "nbconvert_exporter": "python",
   "pygments_lexer": "ipython3",
   "version": "3.7.7-final"
  },
  "orig_nbformat": 2,
  "kernelspec": {
   "name": "python37764bittradingvirtualenv7e7bee5f6d9c4e4f8a202dccd3c73e6c",
   "display_name": "Python 3.7.7 64-bit ('trading': virtualenv)"
  }
 },
 "nbformat": 4,
 "nbformat_minor": 2
}