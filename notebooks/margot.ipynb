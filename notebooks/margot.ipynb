{
 "cells": [
  {
   "cell_type": "code",
   "execution_count": 1,
   "metadata": {},
   "outputs": [],
   "source": [
    "import os\n",
    "from margot.data import MargotDataFrame, Symbol, Ratio\n",
    "from margot.data.column import av, random\n",
    "from margot.data import feature\n",
    "\n",
    "class Index(Symbol):\n",
    "    adj_close = av.Column(function='historical_daily_adjusted', time_series='adjusted_close')\n"
   ]
  },
  {
   "cell_type": "code",
   "execution_count": 2,
   "metadata": {},
   "outputs": [],
   "source": [
    "class ExampleDF(MargotDataFrame):\n",
    "    spy = Index(symbol='SPY')\n",
    "    vtwo = Index(symbol='VTWO')\n",
    "    spy_russ_ratio = Ratio(numerator=spy.adj_close, denominator=vtwo.adj_close, label='spy_russ')"
   ]
  },
  {
   "cell_type": "code",
   "execution_count": 3,
   "metadata": {},
   "outputs": [],
   "source": [
    "mdf = ExampleDF()"
   ]
  },
  {
   "cell_type": "code",
   "execution_count": 4,
   "metadata": {},
   "outputs": [
    {
     "output_type": "execute_result",
     "data": {
      "text/plain": "                                SPY      VTWO         margot\n                          adj_close adj_close spy_russ_ratio\ndate                                                        \n2020-06-02 00:00:00+00:00    308.08    113.91       2.704591\n2020-06-03 00:00:00+00:00    312.18    116.44       2.681037\n2020-06-04 00:00:00+00:00    311.36    116.54       2.671701\n2020-06-05 00:00:00+00:00    319.34    120.86       2.642231\n2020-06-08 00:00:00+00:00    323.20    123.39       2.619337",
      "text/html": "<div>\n<style scoped>\n    .dataframe tbody tr th:only-of-type {\n        vertical-align: middle;\n    }\n\n    .dataframe tbody tr th {\n        vertical-align: top;\n    }\n\n    .dataframe thead tr th {\n        text-align: left;\n    }\n\n    .dataframe thead tr:last-of-type th {\n        text-align: right;\n    }\n</style>\n<table border=\"1\" class=\"dataframe\">\n  <thead>\n    <tr>\n      <th></th>\n      <th>SPY</th>\n      <th>VTWO</th>\n      <th>margot</th>\n    </tr>\n    <tr>\n      <th></th>\n      <th>adj_close</th>\n      <th>adj_close</th>\n      <th>spy_russ_ratio</th>\n    </tr>\n    <tr>\n      <th>date</th>\n      <th></th>\n      <th></th>\n      <th></th>\n    </tr>\n  </thead>\n  <tbody>\n    <tr>\n      <th>2020-06-02 00:00:00+00:00</th>\n      <td>308.08</td>\n      <td>113.91</td>\n      <td>2.704591</td>\n    </tr>\n    <tr>\n      <th>2020-06-03 00:00:00+00:00</th>\n      <td>312.18</td>\n      <td>116.44</td>\n      <td>2.681037</td>\n    </tr>\n    <tr>\n      <th>2020-06-04 00:00:00+00:00</th>\n      <td>311.36</td>\n      <td>116.54</td>\n      <td>2.671701</td>\n    </tr>\n    <tr>\n      <th>2020-06-05 00:00:00+00:00</th>\n      <td>319.34</td>\n      <td>120.86</td>\n      <td>2.642231</td>\n    </tr>\n    <tr>\n      <th>2020-06-08 00:00:00+00:00</th>\n      <td>323.20</td>\n      <td>123.39</td>\n      <td>2.619337</td>\n    </tr>\n  </tbody>\n</table>\n</div>"
     },
     "metadata": {},
     "execution_count": 4
    }
   ],
   "source": [
    "mdf.to_pandas().tail()"
   ]
  },
  {
   "cell_type": "code",
   "execution_count": null,
   "metadata": {},
   "outputs": [],
   "source": []
  }
 ],
 "metadata": {
  "language_info": {
   "codemirror_mode": {
    "name": "ipython",
    "version": 3
   },
   "file_extension": ".py",
   "mimetype": "text/x-python",
   "name": "python",
   "nbconvert_exporter": "python",
   "pygments_lexer": "ipython3",
   "version": "3.7.7-final"
  },
  "orig_nbformat": 2,
  "kernelspec": {
   "name": "python37764bittradingvirtualenv7e7bee5f6d9c4e4f8a202dccd3c73e6c",
   "display_name": "Python 3.7.7 64-bit ('trading': virtualenv)"
  }
 },
 "nbformat": 4,
 "nbformat_minor": 2
}