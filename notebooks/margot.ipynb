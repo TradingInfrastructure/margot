{
 "cells": [
  {
   "cell_type": "code",
   "execution_count": 3,
   "metadata": {},
   "outputs": [],
   "source": [
    "import os\n",
    "from margot.data import MargotDataFrame, Symbol, Ratio\n",
    "from margot.data.column import av\n",
    "from margot.data import feature\n",
    "\n",
    "class Equity(Symbol):\n",
    "    adjusted_close = av.Column(function='historical_daily_adjusted', time_series='adjusted_close')\n",
    "    volume = av.Column(function='historical_daily_adjusted', time_series='volume')\n",
    "\n",
    "    simple_returns = feature.SimpleReturns(column=adjusted_close)\n",
    "    log_returns = feature.LogReturns(column=adjusted_close)\n",
    "    realised_vol = feature.RealisedVolatility(column=log_returns, window=30)\n",
    "    \n",
    "    upper_band = feature.UpperBollingerBand(column=adjusted_close, window=20, width=2.0)\n",
    "    sma20 = feature.SimpleMovingAverage(column=adjusted_close, window=20)\n",
    "    lower_band = feature.LowerBollingerBand(column=adjusted_close, window=20, width=2.0)\n",
    "\n",
    "class Index(Symbol):\n",
    "    adjusted_close = av.Column(function='historical_daily_adjusted', time_series='adjusted_close')\n",
    "\n",
    "class VXBasis(MargotDataFrame):\n",
    "    vixm = Index(symbol='VIXM')\n",
    "    vix3m = Index(symbol='^VXV')\n",
    "    vix = Index(symbol='^VIX')\n",
    "    ziv = Index(symbol='ZIV')\n",
    "\n",
    "\n",
    "    # vx_basis = Ratio(numerator=vix.adjusted_close, denominator=vix3m.adjusted_close, label='vx_basis_ratio')\n",
    "\n",
    "vxbasis = VXBasis()\n"
   ]
  },
  {
   "cell_type": "code",
   "execution_count": 2,
   "metadata": {},
   "outputs": [
    {
     "output_type": "execute_result",
     "data": {
      "text/plain": "                                    ^VXV\n                          adjusted_close\ndate                                    \n2020-06-01 00:00:00+00:00          30.67\n2020-06-02 00:00:00+00:00          30.94\n2020-06-03 00:00:00+00:00          31.68\n2020-06-04 00:00:00+00:00          31.87\n2020-06-05 00:00:00+00:00          33.12",
      "text/html": "<div>\n<style scoped>\n    .dataframe tbody tr th:only-of-type {\n        vertical-align: middle;\n    }\n\n    .dataframe tbody tr th {\n        vertical-align: top;\n    }\n\n    .dataframe thead tr th {\n        text-align: left;\n    }\n\n    .dataframe thead tr:last-of-type th {\n        text-align: right;\n    }\n</style>\n<table border=\"1\" class=\"dataframe\">\n  <thead>\n    <tr>\n      <th></th>\n      <th>^VXV</th>\n    </tr>\n    <tr>\n      <th></th>\n      <th>adjusted_close</th>\n    </tr>\n    <tr>\n      <th>date</th>\n      <th></th>\n    </tr>\n  </thead>\n  <tbody>\n    <tr>\n      <th>2020-06-01 00:00:00+00:00</th>\n      <td>30.67</td>\n    </tr>\n    <tr>\n      <th>2020-06-02 00:00:00+00:00</th>\n      <td>30.94</td>\n    </tr>\n    <tr>\n      <th>2020-06-03 00:00:00+00:00</th>\n      <td>31.68</td>\n    </tr>\n    <tr>\n      <th>2020-06-04 00:00:00+00:00</th>\n      <td>31.87</td>\n    </tr>\n    <tr>\n      <th>2020-06-05 00:00:00+00:00</th>\n      <td>33.12</td>\n    </tr>\n  </tbody>\n</table>\n</div>"
     },
     "metadata": {},
     "execution_count": 2
    }
   ],
   "source": []
  },
  {
   "cell_type": "code",
   "execution_count": 10,
   "metadata": {},
   "outputs": [
    {
     "output_type": "stream",
     "name": "stdout",
     "text": "146.03000000000003 146.03000000000003 146.03000000000003\n"
    }
   ],
   "source": [
    "first = vxbasis.vix3m.to_pandas().tail()['^VXV', 'adjusted_close'].sum()\n",
    "second = Index('^VXV').to_pandas().tail()['^VXV', 'adjusted_close'].sum()\n",
    "third = vxbasis.vix3m.to_pandas().tail()['^VXV', 'adjusted_close'].sum()\n",
    "print('{} {} {}'.format(first, second, third))\n",
    "assert(first == second)"
   ]
  },
  {
   "cell_type": "code",
   "execution_count": null,
   "metadata": {},
   "outputs": [],
   "source": []
  }
 ],
 "metadata": {
  "language_info": {
   "codemirror_mode": {
    "name": "ipython",
    "version": 3
   },
   "file_extension": ".py",
   "mimetype": "text/x-python",
   "name": "python",
   "nbconvert_exporter": "python",
   "pygments_lexer": "ipython3",
   "version": "3.7.7-final"
  },
  "orig_nbformat": 2,
  "kernelspec": {
   "name": "python37764bittradingvirtualenv7e7bee5f6d9c4e4f8a202dccd3c73e6c",
   "display_name": "Python 3.7.7 64-bit ('trading': virtualenv)"
  }
 },
 "nbformat": 4,
 "nbformat_minor": 2
}