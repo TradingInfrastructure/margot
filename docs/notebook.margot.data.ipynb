{
 "cells": [
  {
   "cell_type": "markdown",
   "metadata": {},
   "source": [
    "# margot.data example notebook."
   ]
  },
  {
   "cell_type": "code",
   "execution_count": 1,
   "metadata": {},
   "outputs": [],
   "source": [
    "from margot import Symbol, MargotDataFrame, Ratio\n",
    "from margot import finance, alphavantage as av\n",
    "\n",
    "class Index(Symbol):\n",
    "    adj_close = av.DailyAdjusted(function='historical_daily_adjusted', \n",
    "                          time_series='adjusted_close')\n",
    "    log_returns = finance.LogReturns(column='adj_close')\n",
    "    realised_vol = finance.RealisedVolatility(column='log_returns', \n",
    "                                              window=30)\n"
   ]
  },
  {
   "cell_type": "code",
   "execution_count": 2,
   "metadata": {},
   "outputs": [],
   "source": [
    "class ExampleDF(MargotDataFrame):\n",
    "    spy = Index(symbol='SPY', trading_calendar='NYSE')\n",
    "    vtwo = Index(symbol='VTWO', trading_calendar='NYSE')\n",
    "    spy_russ_ratio = Ratio(numerator=spy.adj_close, \n",
    "                           denominator=vtwo.adj_close, \n",
    "                           label='spy_russ')"
   ]
  },
  {
   "cell_type": "code",
   "execution_count": 3,
   "metadata": {},
   "outputs": [],
   "source": [
    "mdf = ExampleDF()"
   ]
  },
  {
   "cell_type": "code",
   "execution_count": 4,
   "metadata": {},
   "outputs": [
    {
     "output_type": "execute_result",
     "data": {
      "text/plain": "                                SPY                               VTWO  \\\n                          adj_close log_returns realised_vol adj_close   \ndate                                                                     \n2020-06-23 00:00:00+00:00    312.05    0.004593     0.260809  115.2159   \n2020-06-24 00:00:00+00:00    304.09   -0.025840     0.265557  111.4867   \n2020-06-25 00:00:00+00:00    307.35    0.010663     0.259729  113.0700   \n2020-06-26 00:00:00+00:00    300.05   -0.024038     0.269796  110.4600   \n2020-06-29 00:00:00+00:00    304.46    0.014591     0.272220  113.9400   \n\n                                                           margot  \n                          log_returns realised_vol spy_russ_ratio  \ndate                                                               \n2020-06-23 00:00:00+00:00    0.004250     0.429186       2.708394  \n2020-06-24 00:00:00+00:00   -0.032902     0.426147       2.727590  \n2020-06-25 00:00:00+00:00    0.014102     0.411958       2.718228  \n2020-06-26 00:00:00+00:00   -0.023354     0.419855       2.716368  \n2020-06-29 00:00:00+00:00    0.031019     0.425613       2.672108  ",
      "text/html": "<div>\n<style scoped>\n    .dataframe tbody tr th:only-of-type {\n        vertical-align: middle;\n    }\n\n    .dataframe tbody tr th {\n        vertical-align: top;\n    }\n\n    .dataframe thead tr th {\n        text-align: left;\n    }\n\n    .dataframe thead tr:last-of-type th {\n        text-align: right;\n    }\n</style>\n<table border=\"1\" class=\"dataframe\">\n  <thead>\n    <tr>\n      <th></th>\n      <th colspan=\"3\" halign=\"left\">SPY</th>\n      <th colspan=\"3\" halign=\"left\">VTWO</th>\n      <th>margot</th>\n    </tr>\n    <tr>\n      <th></th>\n      <th>adj_close</th>\n      <th>log_returns</th>\n      <th>realised_vol</th>\n      <th>adj_close</th>\n      <th>log_returns</th>\n      <th>realised_vol</th>\n      <th>spy_russ_ratio</th>\n    </tr>\n    <tr>\n      <th>date</th>\n      <th></th>\n      <th></th>\n      <th></th>\n      <th></th>\n      <th></th>\n      <th></th>\n      <th></th>\n    </tr>\n  </thead>\n  <tbody>\n    <tr>\n      <th>2020-06-23 00:00:00+00:00</th>\n      <td>312.05</td>\n      <td>0.004593</td>\n      <td>0.260809</td>\n      <td>115.2159</td>\n      <td>0.004250</td>\n      <td>0.429186</td>\n      <td>2.708394</td>\n    </tr>\n    <tr>\n      <th>2020-06-24 00:00:00+00:00</th>\n      <td>304.09</td>\n      <td>-0.025840</td>\n      <td>0.265557</td>\n      <td>111.4867</td>\n      <td>-0.032902</td>\n      <td>0.426147</td>\n      <td>2.727590</td>\n    </tr>\n    <tr>\n      <th>2020-06-25 00:00:00+00:00</th>\n      <td>307.35</td>\n      <td>0.010663</td>\n      <td>0.259729</td>\n      <td>113.0700</td>\n      <td>0.014102</td>\n      <td>0.411958</td>\n      <td>2.718228</td>\n    </tr>\n    <tr>\n      <th>2020-06-26 00:00:00+00:00</th>\n      <td>300.05</td>\n      <td>-0.024038</td>\n      <td>0.269796</td>\n      <td>110.4600</td>\n      <td>-0.023354</td>\n      <td>0.419855</td>\n      <td>2.716368</td>\n    </tr>\n    <tr>\n      <th>2020-06-29 00:00:00+00:00</th>\n      <td>304.46</td>\n      <td>0.014591</td>\n      <td>0.272220</td>\n      <td>113.9400</td>\n      <td>0.031019</td>\n      <td>0.425613</td>\n      <td>2.672108</td>\n    </tr>\n  </tbody>\n</table>\n</div>"
     },
     "metadata": {},
     "execution_count": 4
    }
   ],
   "source": [
    "mdf.to_pandas().tail()"
   ]
  }
 ],
 "metadata": {
  "language_info": {
   "codemirror_mode": {
    "name": "ipython",
    "version": 3
   },
   "file_extension": ".py",
   "mimetype": "text/x-python",
   "name": "python",
   "nbconvert_exporter": "python",
   "pygments_lexer": "ipython3",
   "version": "3.8.3-final"
  },
  "orig_nbformat": 2,
  "kernelspec": {
   "name": "python37764bitmargotvirtualenv72d922e258c449f79009f1b2024c7805",
   "display_name": "Python 3.7.7 64-bit ('margot': virtualenv)"
  }
 },
 "nbformat": 4,
 "nbformat_minor": 2
}