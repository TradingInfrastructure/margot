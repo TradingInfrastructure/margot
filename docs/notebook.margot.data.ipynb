{
 "cells": [
  {
   "cell_type": "markdown",
   "metadata": {},
   "source": [
    "# margot.data example notebook."
   ]
  },
  {
   "cell_type": "code",
   "execution_count": 1,
   "metadata": {},
   "outputs": [],
   "source": [
    "from margot import Symbol, MargotDataFrame, Ratio\n",
    "from margot import finance, alphavantage as av\n",
    "\n",
    "class Index(Symbol):\n",
    "    adj_close = av.Column(function='historical_daily_adjusted', \n",
    "                          time_series='adjusted_close')\n",
    "    log_returns = finance.LogReturns(column='adj_close')\n",
    "    realised_vol = finance.RealisedVolatility(column='log_returns', \n",
    "                                              window=30)\n"
   ]
  },
  {
   "cell_type": "code",
   "execution_count": 2,
   "metadata": {},
   "outputs": [],
   "source": [
    "class ExampleDF(MargotDataFrame):\n",
    "    spy = Index(symbol='SPY', trading_calendar='NYSE')\n",
    "    vtwo = Index(symbol='VTWO', trading_calendar='NYSE')\n",
    "    spy_russ_ratio = Ratio(numerator=spy.adj_close, \n",
    "                           denominator=vtwo.adj_close, \n",
    "                           label='spy_russ')"
   ]
  },
  {
   "cell_type": "code",
   "execution_count": 3,
   "metadata": {},
   "outputs": [],
   "source": [
    "mdf = ExampleDF()"
   ]
  },
  {
   "cell_type": "code",
   "execution_count": 4,
   "metadata": {},
   "outputs": [
    {
     "output_type": "execute_result",
     "data": {
      "text/plain": "                                SPY                               VTWO  \\\n                          adj_close log_returns realised_vol adj_close   \ndate                                                                     \n2020-06-15 00:00:00+00:00  305.6968    0.009292     0.260969    113.92   \n2020-06-16 00:00:00+00:00  311.5808    0.019065     0.265222    116.76   \n2020-06-17 00:00:00+00:00  310.2865   -0.004163     0.265461    114.60   \n2020-06-18 00:00:00+00:00  310.4060    0.000385     0.264006    114.65   \n2020-06-19 00:00:00+00:00  308.6400   -0.005706     0.263797    113.85   \n\n                                                           margot  \n                          log_returns realised_vol spy_russ_ratio  \ndate                                                               \n2020-06-15 00:00:00+00:00    0.022998     0.433523       2.683434  \n2020-06-16 00:00:00+00:00    0.024624     0.437526       2.668558  \n2020-06-17 00:00:00+00:00   -0.018673     0.442664       2.707561  \n2020-06-18 00:00:00+00:00    0.000436     0.441551       2.707423  \n2020-06-19 00:00:00+00:00   -0.007002     0.441814       2.710935  ",
      "text/html": "<div>\n<style scoped>\n    .dataframe tbody tr th:only-of-type {\n        vertical-align: middle;\n    }\n\n    .dataframe tbody tr th {\n        vertical-align: top;\n    }\n\n    .dataframe thead tr th {\n        text-align: left;\n    }\n\n    .dataframe thead tr:last-of-type th {\n        text-align: right;\n    }\n</style>\n<table border=\"1\" class=\"dataframe\">\n  <thead>\n    <tr>\n      <th></th>\n      <th colspan=\"3\" halign=\"left\">SPY</th>\n      <th colspan=\"3\" halign=\"left\">VTWO</th>\n      <th>margot</th>\n    </tr>\n    <tr>\n      <th></th>\n      <th>adj_close</th>\n      <th>log_returns</th>\n      <th>realised_vol</th>\n      <th>adj_close</th>\n      <th>log_returns</th>\n      <th>realised_vol</th>\n      <th>spy_russ_ratio</th>\n    </tr>\n    <tr>\n      <th>date</th>\n      <th></th>\n      <th></th>\n      <th></th>\n      <th></th>\n      <th></th>\n      <th></th>\n      <th></th>\n    </tr>\n  </thead>\n  <tbody>\n    <tr>\n      <th>2020-06-15 00:00:00+00:00</th>\n      <td>305.6968</td>\n      <td>0.009292</td>\n      <td>0.260969</td>\n      <td>113.92</td>\n      <td>0.022998</td>\n      <td>0.433523</td>\n      <td>2.683434</td>\n    </tr>\n    <tr>\n      <th>2020-06-16 00:00:00+00:00</th>\n      <td>311.5808</td>\n      <td>0.019065</td>\n      <td>0.265222</td>\n      <td>116.76</td>\n      <td>0.024624</td>\n      <td>0.437526</td>\n      <td>2.668558</td>\n    </tr>\n    <tr>\n      <th>2020-06-17 00:00:00+00:00</th>\n      <td>310.2865</td>\n      <td>-0.004163</td>\n      <td>0.265461</td>\n      <td>114.60</td>\n      <td>-0.018673</td>\n      <td>0.442664</td>\n      <td>2.707561</td>\n    </tr>\n    <tr>\n      <th>2020-06-18 00:00:00+00:00</th>\n      <td>310.4060</td>\n      <td>0.000385</td>\n      <td>0.264006</td>\n      <td>114.65</td>\n      <td>0.000436</td>\n      <td>0.441551</td>\n      <td>2.707423</td>\n    </tr>\n    <tr>\n      <th>2020-06-19 00:00:00+00:00</th>\n      <td>308.6400</td>\n      <td>-0.005706</td>\n      <td>0.263797</td>\n      <td>113.85</td>\n      <td>-0.007002</td>\n      <td>0.441814</td>\n      <td>2.710935</td>\n    </tr>\n  </tbody>\n</table>\n</div>"
     },
     "metadata": {},
     "execution_count": 4
    }
   ],
   "source": [
    "mdf.to_pandas().tail()"
   ]
  }
 ],
 "metadata": {
  "language_info": {
   "codemirror_mode": {
    "name": "ipython",
    "version": 3
   },
   "file_extension": ".py",
   "mimetype": "text/x-python",
   "name": "python",
   "nbconvert_exporter": "python",
   "pygments_lexer": "ipython3",
   "version": "3.8.3-final"
  },
  "orig_nbformat": 2,
  "kernelspec": {
   "name": "python37764bitmargotvirtualenv72d922e258c449f79009f1b2024c7805",
   "display_name": "Python 3.7.7 64-bit ('margot': virtualenv)"
  }
 },
 "nbformat": 4,
 "nbformat_minor": 2
}