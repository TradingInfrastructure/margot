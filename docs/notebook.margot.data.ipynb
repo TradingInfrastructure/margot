{
 "cells": [
  {
   "cell_type": "code",
   "execution_count": null,
   "metadata": {},
   "outputs": [],
   "source": [
    "# Notebook margot.data\n",
    "\"\"\"\n",
    "This \n",
    "\"\"\""
   ]
  },
  {
   "cell_type": "code",
   "execution_count": 1,
   "metadata": {},
   "outputs": [],
   "source": [
    "from margot.data import MargotDataFrame, Symbol, Ratio\n",
    "from margot.data.column import av\n",
    "from margot.data.features import finance\n",
    "\n",
    "class Index(Symbol):\n",
    "    adj_close = av.Column(function='historical_daily_adjusted', \n",
    "                          time_series='adjusted_close')\n",
    "    log_returns = finance.LogReturns(column='adj_close')\n",
    "    realised_vol = finance.RealisedVolatility(column='log_returns', \n",
    "                                              window=30)\n"
   ]
  },
  {
   "cell_type": "code",
   "execution_count": 2,
   "metadata": {},
   "outputs": [],
   "source": [
    "class ExampleDF(MargotDataFrame):\n",
    "    spy = Index(symbol='SPY')\n",
    "    vtwo = Index(symbol='VTWO')\n",
    "    spy_russ_ratio = Ratio(numerator=spy.adj_close, \n",
    "                           denominator=vtwo.adj_close, \n",
    "                           label='spy_russ')"
   ]
  },
  {
   "cell_type": "code",
   "execution_count": 3,
   "metadata": {},
   "outputs": [],
   "source": [
    "mdf = ExampleDF()"
   ]
  },
  {
   "cell_type": "code",
   "execution_count": 4,
   "metadata": {},
   "outputs": [
    {
     "output_type": "execute_result",
     "data": {
      "text/plain": "                                SPY                               VTWO  \\\n                          adj_close log_returns realised_vol adj_close   \ndate                                                                     \n2020-06-02 00:00:00+00:00    308.08    0.008246     0.234196    113.91   \n2020-06-03 00:00:00+00:00    312.18    0.013220     0.212717    116.44   \n2020-06-04 00:00:00+00:00    311.36   -0.002630     0.207012    116.54   \n2020-06-05 00:00:00+00:00    319.34    0.025307     0.215927    120.86   \n2020-06-08 00:00:00+00:00    323.20    0.012015     0.215303    123.39   \n\n                                                           margot  \n                          log_returns realised_vol spy_russ_ratio  \ndate                                                               \n2020-06-02 00:00:00+00:00    0.008463     0.400729       2.704591  \n2020-06-03 00:00:00+00:00    0.021967     0.393954       2.681037  \n2020-06-04 00:00:00+00:00    0.000858     0.394140       2.671701  \n2020-06-05 00:00:00+00:00    0.036398     0.403436       2.642231  \n2020-06-08 00:00:00+00:00    0.020717     0.404300       2.619337  ",
      "text/html": "<div>\n<style scoped>\n    .dataframe tbody tr th:only-of-type {\n        vertical-align: middle;\n    }\n\n    .dataframe tbody tr th {\n        vertical-align: top;\n    }\n\n    .dataframe thead tr th {\n        text-align: left;\n    }\n\n    .dataframe thead tr:last-of-type th {\n        text-align: right;\n    }\n</style>\n<table border=\"1\" class=\"dataframe\">\n  <thead>\n    <tr>\n      <th></th>\n      <th colspan=\"3\" halign=\"left\">SPY</th>\n      <th colspan=\"3\" halign=\"left\">VTWO</th>\n      <th>margot</th>\n    </tr>\n    <tr>\n      <th></th>\n      <th>adj_close</th>\n      <th>log_returns</th>\n      <th>realised_vol</th>\n      <th>adj_close</th>\n      <th>log_returns</th>\n      <th>realised_vol</th>\n      <th>spy_russ_ratio</th>\n    </tr>\n    <tr>\n      <th>date</th>\n      <th></th>\n      <th></th>\n      <th></th>\n      <th></th>\n      <th></th>\n      <th></th>\n      <th></th>\n    </tr>\n  </thead>\n  <tbody>\n    <tr>\n      <th>2020-06-02 00:00:00+00:00</th>\n      <td>308.08</td>\n      <td>0.008246</td>\n      <td>0.234196</td>\n      <td>113.91</td>\n      <td>0.008463</td>\n      <td>0.400729</td>\n      <td>2.704591</td>\n    </tr>\n    <tr>\n      <th>2020-06-03 00:00:00+00:00</th>\n      <td>312.18</td>\n      <td>0.013220</td>\n      <td>0.212717</td>\n      <td>116.44</td>\n      <td>0.021967</td>\n      <td>0.393954</td>\n      <td>2.681037</td>\n    </tr>\n    <tr>\n      <th>2020-06-04 00:00:00+00:00</th>\n      <td>311.36</td>\n      <td>-0.002630</td>\n      <td>0.207012</td>\n      <td>116.54</td>\n      <td>0.000858</td>\n      <td>0.394140</td>\n      <td>2.671701</td>\n    </tr>\n    <tr>\n      <th>2020-06-05 00:00:00+00:00</th>\n      <td>319.34</td>\n      <td>0.025307</td>\n      <td>0.215927</td>\n      <td>120.86</td>\n      <td>0.036398</td>\n      <td>0.403436</td>\n      <td>2.642231</td>\n    </tr>\n    <tr>\n      <th>2020-06-08 00:00:00+00:00</th>\n      <td>323.20</td>\n      <td>0.012015</td>\n      <td>0.215303</td>\n      <td>123.39</td>\n      <td>0.020717</td>\n      <td>0.404300</td>\n      <td>2.619337</td>\n    </tr>\n  </tbody>\n</table>\n</div>"
     },
     "metadata": {},
     "execution_count": 4
    }
   ],
   "source": [
    "mdf.to_pandas().tail()"
   ]
  }
 ],
 "metadata": {
  "language_info": {
   "codemirror_mode": {
    "name": "ipython",
    "version": 3
   },
   "file_extension": ".py",
   "mimetype": "text/x-python",
   "name": "python",
   "nbconvert_exporter": "python",
   "pygments_lexer": "ipython3",
   "version": "3.7.7-final"
  },
  "orig_nbformat": 2,
  "kernelspec": {
   "name": "python37764bittradingvirtualenv7e7bee5f6d9c4e4f8a202dccd3c73e6c",
   "display_name": "Python 3.7.7 64-bit ('trading': virtualenv)"
  }
 },
 "nbformat": 4,
 "nbformat_minor": 2
}