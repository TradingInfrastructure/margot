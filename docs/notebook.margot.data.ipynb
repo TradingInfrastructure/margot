{
 "cells": [
  {
   "cell_type": "markdown",
   "metadata": {},
   "source": [
    "# margot.data example notebook."
   ]
  },
  {
   "cell_type": "code",
   "execution_count": 1,
   "metadata": {},
   "outputs": [],
   "source": [
    "from margot.data import MargotDataFrame, Symbol, Ratio\n",
    "from margot.data.column import alphavantage as av\n",
    "from margot.data.features import finance\n",
    "\n",
    "class Index(Symbol):\n",
    "    adj_close = av.Column(function='historical_daily_adjusted', \n",
    "                          time_series='adjusted_close')\n",
    "    log_returns = finance.LogReturns(column='adj_close')\n",
    "    realised_vol = finance.RealisedVolatility(column='log_returns', \n",
    "                                              window=30)\n"
   ]
  },
  {
   "cell_type": "code",
   "execution_count": 2,
   "metadata": {},
   "outputs": [],
   "source": [
    "class ExampleDF(MargotDataFrame):\n",
    "    spy = Index(symbol='SPY', trading_calendar='NYSE')\n",
    "    vtwo = Index(symbol='VTWO', trading_calendar='NYSE')\n",
    "    spy_russ_ratio = Ratio(numerator=spy.adj_close, \n",
    "                           denominator=vtwo.adj_close, \n",
    "                           label='spy_russ')"
   ]
  },
  {
   "cell_type": "code",
   "execution_count": 3,
   "metadata": {},
   "outputs": [],
   "source": [
    "mdf = ExampleDF()"
   ]
  },
  {
   "cell_type": "code",
   "execution_count": 4,
   "metadata": {},
   "outputs": [
    {
     "output_type": "execute_result",
     "data": {
      "text/plain": "                                SPY                               VTWO  \\\n                          adj_close log_returns realised_vol adj_close   \ndate                                                                     \n2020-06-10 00:00:00+00:00    319.00   -0.005596     0.216225    117.67   \n2020-06-11 00:00:00+00:00    300.61   -0.059377     0.273717    108.94   \n2020-06-12 00:00:00+00:00    304.21    0.011905     0.273778    111.33   \n2020-06-15 00:00:00+00:00    307.05    0.009292     0.260969    113.92   \n2020-06-16 00:00:00+00:00    312.96    0.019065     0.265222    116.76   \n\n                                                           margot  \n                          log_returns realised_vol spy_russ_ratio  \ndate                                                               \n2020-06-10 00:00:00+00:00   -0.028154     0.411975       2.710971  \n2020-06-11 00:00:00+00:00   -0.077087     0.456570       2.759409  \n2020-06-12 00:00:00+00:00    0.021701     0.446860       2.732507  \n2020-06-15 00:00:00+00:00    0.022998     0.433523       2.695312  \n2020-06-16 00:00:00+00:00    0.024624     0.437526       2.680370  ",
      "text/html": "<div>\n<style scoped>\n    .dataframe tbody tr th:only-of-type {\n        vertical-align: middle;\n    }\n\n    .dataframe tbody tr th {\n        vertical-align: top;\n    }\n\n    .dataframe thead tr th {\n        text-align: left;\n    }\n\n    .dataframe thead tr:last-of-type th {\n        text-align: right;\n    }\n</style>\n<table border=\"1\" class=\"dataframe\">\n  <thead>\n    <tr>\n      <th></th>\n      <th colspan=\"3\" halign=\"left\">SPY</th>\n      <th colspan=\"3\" halign=\"left\">VTWO</th>\n      <th>margot</th>\n    </tr>\n    <tr>\n      <th></th>\n      <th>adj_close</th>\n      <th>log_returns</th>\n      <th>realised_vol</th>\n      <th>adj_close</th>\n      <th>log_returns</th>\n      <th>realised_vol</th>\n      <th>spy_russ_ratio</th>\n    </tr>\n    <tr>\n      <th>date</th>\n      <th></th>\n      <th></th>\n      <th></th>\n      <th></th>\n      <th></th>\n      <th></th>\n      <th></th>\n    </tr>\n  </thead>\n  <tbody>\n    <tr>\n      <th>2020-06-10 00:00:00+00:00</th>\n      <td>319.00</td>\n      <td>-0.005596</td>\n      <td>0.216225</td>\n      <td>117.67</td>\n      <td>-0.028154</td>\n      <td>0.411975</td>\n      <td>2.710971</td>\n    </tr>\n    <tr>\n      <th>2020-06-11 00:00:00+00:00</th>\n      <td>300.61</td>\n      <td>-0.059377</td>\n      <td>0.273717</td>\n      <td>108.94</td>\n      <td>-0.077087</td>\n      <td>0.456570</td>\n      <td>2.759409</td>\n    </tr>\n    <tr>\n      <th>2020-06-12 00:00:00+00:00</th>\n      <td>304.21</td>\n      <td>0.011905</td>\n      <td>0.273778</td>\n      <td>111.33</td>\n      <td>0.021701</td>\n      <td>0.446860</td>\n      <td>2.732507</td>\n    </tr>\n    <tr>\n      <th>2020-06-15 00:00:00+00:00</th>\n      <td>307.05</td>\n      <td>0.009292</td>\n      <td>0.260969</td>\n      <td>113.92</td>\n      <td>0.022998</td>\n      <td>0.433523</td>\n      <td>2.695312</td>\n    </tr>\n    <tr>\n      <th>2020-06-16 00:00:00+00:00</th>\n      <td>312.96</td>\n      <td>0.019065</td>\n      <td>0.265222</td>\n      <td>116.76</td>\n      <td>0.024624</td>\n      <td>0.437526</td>\n      <td>2.680370</td>\n    </tr>\n  </tbody>\n</table>\n</div>"
     },
     "metadata": {},
     "execution_count": 4
    }
   ],
   "source": [
    "mdf.to_pandas().tail()"
   ]
  }
 ],
 "metadata": {
  "language_info": {
   "codemirror_mode": {
    "name": "ipython",
    "version": 3
   },
   "file_extension": ".py",
   "mimetype": "text/x-python",
   "name": "python",
   "nbconvert_exporter": "python",
   "pygments_lexer": "ipython3",
   "version": "3.8.3-final"
  },
  "orig_nbformat": 2,
  "kernelspec": {
   "name": "python37764bitmargotvirtualenv72d922e258c449f79009f1b2024c7805",
   "display_name": "Python 3.7.7 64-bit ('margot': virtualenv)"
  }
 },
 "nbformat": 4,
 "nbformat_minor": 2
}